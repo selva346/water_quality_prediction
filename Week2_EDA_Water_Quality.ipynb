{
 "cells": [
  {
   "cell_type": "markdown",
   "id": "143b0e8b",
   "metadata": {},
   "source": [
    "# Week 2 - Exploratory Data Analysis (EDA)\n",
    "This notebook performs visual analysis of the cleaned water quality dataset.\n",
    "We check data distribution, correlations, and relationships to prepare for modeling."
   ]
  },
  {
   "cell_type": "code",
   "execution_count": null,
   "id": "0515d869",
   "metadata": {},
   "outputs": [],
   "source": [
    "import pandas as pd\n",
    "import seaborn as sns\n",
    "import matplotlib.pyplot as plt"
   ]
  },
  {
   "cell_type": "code",
   "execution_count": null,
   "id": "ce7c8658",
   "metadata": {},
   "outputs": [],
   "source": [
    "# Load dataset\n",
    "data = pd.read_csv('water_quality.csv', sep=';')\n",
    "data = data.dropna()\n",
    "data = data.drop(['id', 'date'], axis=1)"
   ]
  },
  {
   "cell_type": "code",
   "execution_count": null,
   "id": "f12be743",
   "metadata": {},
   "outputs": [],
   "source": [
    "# Create 'Quality' target column\n",
    "def check_quality(row):\n",
    "    return int(\n",
    "        row['NH4'] < 0.5 and row['BSK5'] < 3 and row['Suspended'] < 25 and\n",
    "        row['O2'] > 5 and row['NO3'] < 10 and row['NO2'] < 0.1 and\n",
    "        row['SO4'] < 250 and row['PO4'] < 0.1 and row['CL'] < 250\n",
    "    )\n",
    "data['Quality'] = data.apply(check_quality, axis=1)"
   ]
  },
  {
   "cell_type": "code",
   "execution_count": null,
   "id": "babb4de8",
   "metadata": {},
   "outputs": [],
   "source": [
    "# Count of safe vs unsafe water\n",
    "sns.countplot(data['Quality'])\n",
    "plt.title('Safe (1) vs Unsafe (0) Water Samples')\n",
    "plt.xlabel('Water Quality')\n",
    "plt.ylabel('Count')\n",
    "plt.show()"
   ]
  },
  {
   "cell_type": "code",
   "execution_count": null,
   "id": "396eff2f",
   "metadata": {},
   "outputs": [],
   "source": [
    "# Histograms of all parameters\n",
    "data.drop('Quality', axis=1).hist(figsize=(15, 10), bins=20)\n",
    "plt.suptitle('Histogram of Water Parameters')\n",
    "plt.tight_layout()\n",
    "plt.show()"
   ]
  },
  {
   "cell_type": "code",
   "execution_count": null,
   "id": "11c5e411",
   "metadata": {},
   "outputs": [],
   "source": [
    "# Correlation heatmap\n",
    "plt.figure(figsize=(10, 7))\n",
    "sns.heatmap(data.corr(), annot=True, cmap='YlGnBu')\n",
    "plt.title('Correlation between Parameters')\n",
    "plt.show()"
   ]
  },
  {
   "cell_type": "code",
   "execution_count": null,
   "id": "193bc0bf",
   "metadata": {},
   "outputs": [],
   "source": [
    "# Boxplots to detect outliers\n",
    "for column in data.drop('Quality', axis=1).columns:\n",
    "    plt.figure()\n",
    "    sns.boxplot(x=data[column])\n",
    "    plt.title(f'Boxplot for {column}')\n",
    "    plt.show()"
   ]
  }
 ],
 "metadata": {},
 "nbformat": 4,
 "nbformat_minor": 5
}